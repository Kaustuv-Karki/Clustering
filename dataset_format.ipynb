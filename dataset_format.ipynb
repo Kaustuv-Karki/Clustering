{
 "cells": [
  {
   "cell_type": "code",
   "execution_count": 1,
   "metadata": {},
   "outputs": [],
   "source": [
    "import os\n",
    "import shutil\n",
    "import numpy as np\n",
    "import pandas as pd\n",
    "from PIL import Image\n",
    "import os"
   ]
  },
  {
   "cell_type": "code",
   "execution_count": 4,
   "metadata": {},
   "outputs": [
    {
     "name": "stdout",
     "output_type": "stream",
     "text": [
      "Images organized successfully.\n"
     ]
    }
   ],
   "source": [
    "# Source directory containing subdirectories with images\n",
    "source_dir = \"./images/\"\n",
    "\n",
    "# Destination directory to copy images\n",
    "destination_dir = \"./new_images/\"\n",
    "\n",
    "# Get a list of subfolders in the source directory\n",
    "# List files in the source directory\n",
    "files = [file for file in os.listdir(source_dir) if file.lower().endswith(('.jpg', '.jpeg', '.png', '.gif'))]\n",
    "\n",
    "# Loop through the files and organize them\n",
    "for filename in files:\n",
    "    base_name = filename.split(\"_\")[0]  # Extract the name before underscore\n",
    "    source_path = os.path.join(source_dir, filename)\n",
    "    destination_subfolder = os.path.join(destination_dir, base_name)\n",
    "    \n",
    "    # Create the subfolder if it doesn't exist\n",
    "    if not os.path.exists(destination_subfolder):\n",
    "        os.makedirs(destination_subfolder)\n",
    "    \n",
    "    destination_path = os.path.join(destination_subfolder, filename)\n",
    "    \n",
    "    # Move the image to the respective subfolder\n",
    "    shutil.move(source_path, destination_path)\n",
    "\n",
    "print(\"Images organized successfully.\")\n"
   ]
  },
  {
   "cell_type": "code",
   "execution_count": 5,
   "metadata": {},
   "outputs": [
    {
     "name": "stderr",
     "output_type": "stream",
     "text": [
      "C:\\Users\\user\\AppData\\Local\\Temp\\ipykernel_17504\\2218111179.py:17: DeprecationWarning: ANTIALIAS is deprecated and will be removed in Pillow 10 (2023-07-01). Use Resampling.LANCZOS instead.\n",
      "  img = img.resize(image_size, Image.ANTIALIAS)\n"
     ]
    },
    {
     "name": "stdout",
     "output_type": "stream",
     "text": [
      "Error loading image: ./images/Abyssinian\\Abyssinian_100.mat, Error: cannot identify image file './images/Abyssinian\\\\Abyssinian_100.mat'\n",
      "Error loading image: ./images/Abyssinian\\Abyssinian_101.mat, Error: cannot identify image file './images/Abyssinian\\\\Abyssinian_101.mat'\n",
      "Error loading image: ./images/Abyssinian\\Abyssinian_102.mat, Error: cannot identify image file './images/Abyssinian\\\\Abyssinian_102.mat'\n",
      "Loaded images shape: (1800, 128, 128, 3)\n",
      "Loaded labels: ['Abyssinian' 'Abyssinian' 'Abyssinian' ... 'yorkshire' 'yorkshire'\n",
      " 'yorkshire']\n"
     ]
    }
   ],
   "source": [
    "def load_images_from_folder(folder_path, image_size=(128, 128), max_images_per_class=50):\n",
    "    images = []\n",
    "    labels = []\n",
    "\n",
    "    for class_name in os.listdir(folder_path):\n",
    "        class_folder = os.path.join(folder_path, class_name)\n",
    "        if os.path.isdir(class_folder):\n",
    "            class_images = []\n",
    "            for filename in os.listdir(class_folder):\n",
    "                if len(class_images) >= max_images_per_class:\n",
    "                    break\n",
    "\n",
    "                img_path = os.path.join(class_folder, filename)\n",
    "                try:\n",
    "                    img = Image.open(img_path)\n",
    "                    img = img.convert('RGB')\n",
    "                    img = img.resize(image_size, Image.ANTIALIAS)\n",
    "                    img_array = np.array(img)\n",
    "                    class_images.append(img_array)\n",
    "                except Exception as e:\n",
    "                    print(f\"Error loading image: {img_path}, Error: {e}\")\n",
    "\n",
    "            if class_images:\n",
    "                images.extend(class_images)\n",
    "                labels.extend([class_name] * len(class_images))\n",
    "\n",
    "    return np.array(images), np.array(labels)\n",
    "\n",
    "# Set your folder path where images are stored\n",
    "folder_path = \"./images/\"\n",
    "image_size = (128, 128)\n",
    "max_images_per_class = 50\n",
    "\n",
    "images, labels = load_images_from_folder(folder_path, image_size, max_images_per_class)\n",
    "print(\"Loaded images shape:\", images.shape)\n",
    "print(\"Loaded labels:\", labels)"
   ]
  },
  {
   "cell_type": "code",
   "execution_count": 6,
   "metadata": {},
   "outputs": [],
   "source": [
    "save_folder = \"./final_data\"  # Set the path to save the data\n",
    "os.makedirs(save_folder, exist_ok=True)\n",
    "\n",
    "np.save(os.path.join(save_folder, \"images.npy\"), images)\n",
    "np.save(os.path.join(save_folder, \"labels.npy\"), labels)"
   ]
  },
  {
   "cell_type": "code",
   "execution_count": null,
   "metadata": {},
   "outputs": [],
   "source": []
  }
 ],
 "metadata": {
  "kernelspec": {
   "display_name": "mlenv-310",
   "language": "python",
   "name": "python3"
  },
  "language_info": {
   "codemirror_mode": {
    "name": "ipython",
    "version": 3
   },
   "file_extension": ".py",
   "mimetype": "text/x-python",
   "name": "python",
   "nbconvert_exporter": "python",
   "pygments_lexer": "ipython3",
   "version": "3.10.11"
  },
  "orig_nbformat": 4
 },
 "nbformat": 4,
 "nbformat_minor": 2
}
